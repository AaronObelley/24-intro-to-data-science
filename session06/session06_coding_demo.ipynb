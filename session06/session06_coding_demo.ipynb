{
 "nbformat": 4,
 "nbformat_minor": 0,
 "metadata": {
  "colab": {
   "provenance": []
  },
  "kernelspec": {
   "name": "python3",
   "display_name": "Python 3"
  },
  "language_info": {
   "name": "python"
  }
 },
 "cells": [
  {
   "cell_type": "code",
   "execution_count": null,
   "metadata": {
    "colab": {
     "base_uri": "https://localhost:8080/"
    },
    "id": "euMf0e7ZMOEZ",
    "outputId": "6fbbd2b4-391f-485b-cb63-134a863acfd9",
    "is_executing": true
   },
   "outputs": [],
   "source": [
    "# Using the \"!\" prefix, you can run code as-if from the console.\n",
    "!python --version"
   ]
  },
  {
   "cell_type": "code",
   "source": [
    "# the 'print' function"
   ],
   "metadata": {
    "colab": {
     "base_uri": "https://localhost:8080/"
    },
    "id": "AMxH51roIn8b",
    "outputId": "37091b0c-de9e-426a-bec6-363b29b7cb55"
   },
   "execution_count": null,
   "outputs": []
  },
  {
   "cell_type": "markdown",
   "source": [],
   "metadata": {
    "id": "Csl2Ck7dpoiy"
   }
  },
  {
   "cell_type": "code",
   "source": [
    "# 'help' function"
   ],
   "metadata": {
    "id": "LQIZP68PndF3"
   },
   "execution_count": null,
   "outputs": []
  },
  {
   "cell_type": "code",
   "source": [
    "# 'dir' function"
   ],
   "metadata": {
    "id": "puyNPMKKnj-A"
   },
   "execution_count": null,
   "outputs": []
  },
  {
   "cell_type": "code",
   "source": [
    "# Data types: string"
   ],
   "metadata": {
    "colab": {
     "base_uri": "https://localhost:8080/"
    },
    "id": "2qGyoTrpMSv5",
    "outputId": "328fccd2-e4fc-4c60-9592-eb315ca304f3"
   },
   "execution_count": null,
   "outputs": []
  },
  {
   "cell_type": "code",
   "source": [
    "# Data types: int"
   ],
   "metadata": {
    "id": "w3IlzGnJAwmF",
    "colab": {
     "base_uri": "https://localhost:8080/"
    },
    "outputId": "bb2403ef-4901-49f2-f04f-e7180859f9ba"
   },
   "execution_count": null,
   "outputs": []
  },
  {
   "cell_type": "code",
   "source": [
    "# Data types: float"
   ],
   "metadata": {
    "id": "tKDs1OgvJMu5"
   },
   "execution_count": null,
   "outputs": []
  },
  {
   "cell_type": "code",
   "source": [
    "# data types: Boolean"
   ],
   "metadata": {
    "id": "lMEeG8ban1Z6"
   },
   "execution_count": null,
   "outputs": []
  },
  {
   "cell_type": "code",
   "source": [
    "# casting data to another type"
   ],
   "metadata": {
    "id": "86d8p-J-n3rR"
   },
   "execution_count": null,
   "outputs": []
  },
  {
   "cell_type": "code",
   "source": [
    "# ANY QUESTIONS SO FAR?"
   ],
   "metadata": {
    "id": "s7bCgROAtE2J"
   },
   "execution_count": null,
   "outputs": []
  },
  {
   "cell_type": "code",
   "source": [
    "# Phython built-in data structures:\n",
    "# - list\n",
    "# - dictionary\n",
    "# - set\n",
    "# - tuple\n",
    "# - range"
   ],
   "metadata": {
    "id": "GT3jjbVOn6HO"
   },
   "execution_count": null,
   "outputs": []
  },
  {
   "cell_type": "code",
   "source": [
    "# list\n",
    "\n",
    "# adding to lists\n",
    "\n",
    "# 'pop' function\n",
    "\n",
    "# indexing\n",
    "\n",
    "# lists and mutability\n",
    "# you can reassign items to a list at a specified index, as well as add and remove items\n",
    "# - this means lists are mutable"
   ],
   "metadata": {
    "id": "CFexdtlVoKcf"
   },
   "execution_count": null,
   "outputs": []
  },
  {
   "cell_type": "code",
   "source": [
    "# set\n",
    "\n",
    "# sets and order\n",
    "\n",
    "# adding to sets\n",
    "\n",
    "# sets and mutability\n",
    "# you can add and subtract values to a set - this means sets are mutable"
   ],
   "metadata": {
    "id": "EvjZtNYLoMFX"
   },
   "execution_count": null,
   "outputs": []
  },
  {
   "cell_type": "code",
   "source": [
    "# dictionary\n",
    "\n",
    "# dictionaries and order\n",
    "\n",
    "# keys, values and items\n",
    "\n",
    "# dictionaries and mutability\n",
    "# you can re-assign values to dictionary keys - this means dictionaries are mutable"
   ],
   "metadata": {
    "id": "1or1fVnloM6k"
   },
   "execution_count": null,
   "outputs": []
  },
  {
   "cell_type": "code",
   "source": [
    "# tuple\n",
    "\n",
    "# tuples and mutability\n",
    "# you can't assign items to a tuple (replace items at an index) - tuples are immutable\n",
    "# this makes them handy for storing data you don't want people to be able to change"
   ],
   "metadata": {
    "id": "XAcQQ7XSoOjK"
   },
   "execution_count": null,
   "outputs": []
  },
  {
   "cell_type": "code",
   "source": [
    "# QUESTIONS? :)"
   ],
   "metadata": {
    "id": "0h5RViumtJ1T"
   },
   "execution_count": null,
   "outputs": []
  },
  {
   "cell_type": "code",
   "source": [
    "# conditional statements\n",
    "\n",
    "# TASK: check if a number is even or odd"
   ],
   "metadata": {
    "id": "qs8BGLwPoYpg"
   },
   "execution_count": null,
   "outputs": []
  },
  {
   "cell_type": "code",
   "source": [
    "# QUESTION 1: what will happen if I put a 'float' data type in the cell above?\n",
    "\n",
    "# QUESTION 2: how would we remove the repetitions from that code?\n",
    "\n",
    "# QUESTION 3: can you write it in a single line?"
   ],
   "metadata": {
    "id": "YCG__6yJr1xE"
   },
   "execution_count": null,
   "outputs": []
  },
  {
   "cell_type": "code",
   "source": [
    "# for loops and indexing\n",
    "\n",
    "# TASK: spell out a word using a \"range\" object\n",
    "# TIP: do you remember the \"%\" operator from JavaScript classes?"
   ],
   "metadata": {
    "id": "8BYOvPGjobMJ"
   },
   "execution_count": null,
   "outputs": []
  },
  {
   "cell_type": "code",
   "source": [
    "# for loop without indexing\n",
    "\n",
    "# TASK: spell out a word iterating directly over it"
   ],
   "metadata": {
    "id": "l97XJVxmo4d8"
   },
   "execution_count": null,
   "outputs": []
  },
  {
   "cell_type": "code",
   "source": [
    "# for loop and list comprehension"
   ],
   "metadata": {
    "id": "QwJexae7pAI1"
   },
   "execution_count": null,
   "outputs": []
  },
  {
   "cell_type": "code",
   "source": [
    "# TIME FOR QUESTIONS OR RECAP IF NEEDED :)"
   ],
   "metadata": {
    "id": "W4urk-tgpZSL"
   },
   "execution_count": null,
   "outputs": []
  },
  {
   "cell_type": "code",
   "source": [
    "# ADVANCED: let's get back to the if statement and try to turn it into a function!"
   ],
   "metadata": {
    "id": "CyfFDD3Zsktr"
   },
   "execution_count": null,
   "outputs": []
  }
 ]
}
