{
 "cells": [
  {
   "cell_type": "code",
   "execution_count": null,
   "metadata": {
    "colab": {
     "base_uri": "https://localhost:8080/"
    },
    "id": "euMf0e7ZMOEZ",
    "is_executing": true,
    "outputId": "6fbbd2b4-391f-485b-cb63-134a863acfd9"
   },
   "outputs": [],
   "source": [
    "# Using the \"!\" prefix, you can run code as-if from the console.\n",
    "!python --version"
   ]
  },
  {
   "cell_type": "code",
   "execution_count": null,
   "metadata": {},
   "outputs": [],
   "source": [
    "# the 'print' function\n",
    "print(\"Hello World!\")"
   ]
  },
  {
   "cell_type": "code",
   "execution_count": null,
   "metadata": {
    "id": "LQIZP68PndF3"
   },
   "outputs": [],
   "source": [
    "# 'help' function\n",
    "help(print)"
   ]
  },
  {
   "cell_type": "code",
   "execution_count": null,
   "metadata": {
    "id": "puyNPMKKnj-A"
   },
   "outputs": [],
   "source": [
    "# 'dir' function\n",
    "dir('Marysia')"
   ]
  },
  {
   "cell_type": "code",
   "execution_count": null,
   "metadata": {},
   "outputs": [],
   "source": [
    "'Marysia'.upper()"
   ]
  },
  {
   "cell_type": "code",
   "execution_count": null,
   "metadata": {
    "colab": {
     "base_uri": "https://localhost:8080/"
    },
    "id": "2qGyoTrpMSv5",
    "outputId": "328fccd2-e4fc-4c60-9592-eb315ca304f3"
   },
   "outputs": [],
   "source": [
    "# Data types: string\n",
    "\n",
    "my_val = 'Marysia'\n",
    "\n",
    "print(my_val)\n",
    "print(my_val.upper())\n",
    "type(my_val)"
   ]
  },
  {
   "cell_type": "code",
   "execution_count": null,
   "metadata": {
    "colab": {
     "base_uri": "https://localhost:8080/"
    },
    "id": "w3IlzGnJAwmF",
    "outputId": "bb2403ef-4901-49f2-f04f-e7180859f9ba"
   },
   "outputs": [],
   "source": [
    "# Data types: int\n",
    "\n",
    "my_val = 1\n",
    "\n",
    "print(my_val)\n",
    "type(my_val)"
   ]
  },
  {
   "cell_type": "code",
   "execution_count": null,
   "metadata": {
    "id": "tKDs1OgvJMu5"
   },
   "outputs": [],
   "source": [
    "# Data types: float\n",
    "\n",
    "my_val = 1.43277849832\n",
    "\n",
    "print(my_val)\n",
    "type(my_val)"
   ]
  },
  {
   "cell_type": "code",
   "execution_count": null,
   "metadata": {
    "id": "lMEeG8ban1Z6"
   },
   "outputs": [],
   "source": [
    "# data types: Boolean\n",
    "my_val = True\n",
    "\n",
    "print(my_val)\n",
    "type(my_val)"
   ]
  },
  {
   "cell_type": "code",
   "execution_count": null,
   "metadata": {
    "id": "86d8p-J-n3rR"
   },
   "outputs": [],
   "source": [
    "# casting data to another type\n",
    "\n",
    "my_text = '1'\n",
    "print(type(my_text))\n",
    "\n",
    "my_int = int(my_text)\n",
    "print(type(my_int))\n",
    "\n",
    "my_float = float(my_text)\n",
    "print(type(my_float))\n",
    "\n",
    "my_bool = bool(my_text)\n",
    "print(type(my_bool))"
   ]
  },
  {
   "cell_type": "code",
   "execution_count": null,
   "metadata": {},
   "outputs": [],
   "source": [
    "bool('False')"
   ]
  },
  {
   "cell_type": "code",
   "execution_count": null,
   "metadata": {
    "id": "s7bCgROAtE2J"
   },
   "outputs": [],
   "source": [
    "# ANY QUESTIONS SO FAR?"
   ]
  },
  {
   "cell_type": "code",
   "execution_count": null,
   "metadata": {
    "id": "GT3jjbVOn6HO"
   },
   "outputs": [],
   "source": [
    "# Phython built-in data structures:\n",
    "# - list\n",
    "# - dictionary\n",
    "# - set\n",
    "# - tuple\n",
    "# - range"
   ]
  },
  {
   "cell_type": "code",
   "execution_count": null,
   "metadata": {
    "id": "CFexdtlVoKcf"
   },
   "outputs": [],
   "source": [
    "# list\n",
    "\n",
    "my_list = [1, 'tree', 4.5414, True]\n",
    "\n",
    "# adding to lists\n",
    "\n",
    "# 'pop' function\n",
    "\n",
    "# indexing\n",
    "\n",
    "# lists and mutability\n",
    "# you can reassign items to a list at a specified index, as well as add and remove items\n",
    "# - this means lists are mutable"
   ]
  },
  {
   "cell_type": "code",
   "execution_count": null,
   "metadata": {},
   "outputs": [],
   "source": [
    "my_list"
   ]
  },
  {
   "cell_type": "code",
   "execution_count": null,
   "metadata": {},
   "outputs": [],
   "source": [
    "my_list.append(3.14)"
   ]
  },
  {
   "cell_type": "code",
   "execution_count": null,
   "metadata": {},
   "outputs": [],
   "source": [
    "my_list"
   ]
  },
  {
   "cell_type": "code",
   "execution_count": null,
   "metadata": {},
   "outputs": [],
   "source": [
    "my_list.pop(0)"
   ]
  },
  {
   "cell_type": "code",
   "execution_count": null,
   "metadata": {},
   "outputs": [],
   "source": [
    "my_list"
   ]
  },
  {
   "cell_type": "code",
   "execution_count": null,
   "metadata": {},
   "outputs": [],
   "source": [
    "# INDEXING\n",
    "my_list[1]"
   ]
  },
  {
   "cell_type": "code",
   "execution_count": null,
   "metadata": {},
   "outputs": [],
   "source": [
    "my_list[-4]"
   ]
  },
  {
   "cell_type": "code",
   "execution_count": null,
   "metadata": {},
   "outputs": [],
   "source": [
    "my_list[0] = 5.67"
   ]
  },
  {
   "cell_type": "code",
   "execution_count": null,
   "metadata": {},
   "outputs": [],
   "source": [
    "my_list"
   ]
  },
  {
   "cell_type": "code",
   "execution_count": null,
   "metadata": {},
   "outputs": [],
   "source": [
    "new_list = [1, 1, 1]"
   ]
  },
  {
   "cell_type": "code",
   "execution_count": null,
   "metadata": {},
   "outputs": [],
   "source": [
    "new_list"
   ]
  },
  {
   "cell_type": "code",
   "execution_count": null,
   "metadata": {
    "id": "EvjZtNYLoMFX"
   },
   "outputs": [],
   "source": [
    "# set\n",
    "my_set = {1, 1, 1}\n",
    "my_set\n",
    "\n",
    "# sets and order\n",
    "\n",
    "# adding to sets\n",
    "\n",
    "# sets and mutability\n",
    "# you can add and subtract values to a set - this means sets are mutable"
   ]
  },
  {
   "cell_type": "code",
   "execution_count": null,
   "metadata": {},
   "outputs": [],
   "source": [
    "new_set = set(new_list)\n",
    "new_set"
   ]
  },
  {
   "cell_type": "code",
   "execution_count": null,
   "metadata": {
    "id": "1or1fVnloM6k"
   },
   "outputs": [],
   "source": [
    "# dictionary\n",
    "my_dict = {\n",
    "    'name': 'Marysia',\n",
    "    'city': 'London',\n",
    "}\n",
    "\n",
    "# dictionaries and order\n",
    "\n",
    "# keys, values and items\n",
    "\n",
    "# dictionaries and mutability\n",
    "# you can re-assign values to dictionary keys - this means dictionaries are mutable"
   ]
  },
  {
   "cell_type": "code",
   "execution_count": null,
   "metadata": {},
   "outputs": [],
   "source": [
    "my_dict['name']"
   ]
  },
  {
   "cell_type": "code",
   "execution_count": null,
   "metadata": {},
   "outputs": [],
   "source": [
    "my_dict.keys()"
   ]
  },
  {
   "cell_type": "code",
   "execution_count": null,
   "metadata": {},
   "outputs": [],
   "source": [
    "my_dict.values()"
   ]
  },
  {
   "cell_type": "code",
   "execution_count": null,
   "metadata": {},
   "outputs": [],
   "source": [
    "my_dict.items()"
   ]
  },
  {
   "cell_type": "code",
   "execution_count": null,
   "metadata": {
    "id": "XAcQQ7XSoOjK"
   },
   "outputs": [],
   "source": [
    "# tuple\n",
    "my_tuple = ('name', 'Marysia')\n",
    "\n",
    "# tuples and mutability\n",
    "# you can't assign items to a tuple (replace items at an index) - tuples are immutable\n",
    "# this makes them handy for storing data you don't want people to be able to change"
   ]
  },
  {
   "cell_type": "code",
   "execution_count": null,
   "metadata": {},
   "outputs": [],
   "source": [
    "my_tuple[0]"
   ]
  },
  {
   "cell_type": "code",
   "execution_count": null,
   "metadata": {},
   "outputs": [],
   "source": [
    "my_tuple[0] = 'city'"
   ]
  },
  {
   "cell_type": "code",
   "execution_count": null,
   "metadata": {
    "id": "0h5RViumtJ1T"
   },
   "outputs": [],
   "source": [
    "# QUESTIONS? :)"
   ]
  },
  {
   "cell_type": "code",
   "execution_count": null,
   "metadata": {
    "id": "qs8BGLwPoYpg"
   },
   "outputs": [],
   "source": [
    "# conditional statements\n",
    "\n",
    "# TASK: check if a number is even or odd"
   ]
  },
  {
   "cell_type": "code",
   "execution_count": null,
   "metadata": {
    "id": "YCG__6yJr1xE"
   },
   "outputs": [],
   "source": [
    "# QUESTION 1: what will happen if I put a 'float' data type in the cell above?\n",
    "\n",
    "# QUESTION 2: how would we remove the repetitions from that code?\n",
    "\n",
    "# QUESTION 3: can you write it in a single line?"
   ]
  },
  {
   "cell_type": "code",
   "execution_count": null,
   "metadata": {
    "id": "8BYOvPGjobMJ"
   },
   "outputs": [],
   "source": [
    "# for loops and indexing\n",
    "\n",
    "# TASK: spell out a word using a \"range\" object\n",
    "# TIP: do you remember the \"%\" operator from JavaScript classes?"
   ]
  },
  {
   "cell_type": "code",
   "execution_count": null,
   "metadata": {
    "id": "l97XJVxmo4d8"
   },
   "outputs": [],
   "source": [
    "# for loop without indexing\n",
    "\n",
    "# TASK: spell out a word iterating directly over it"
   ]
  },
  {
   "cell_type": "code",
   "execution_count": null,
   "metadata": {
    "id": "QwJexae7pAI1"
   },
   "outputs": [],
   "source": [
    "# for loop and list comprehension"
   ]
  },
  {
   "cell_type": "code",
   "execution_count": null,
   "metadata": {
    "id": "W4urk-tgpZSL"
   },
   "outputs": [],
   "source": [
    "# TIME FOR QUESTIONS OR RECAP IF NEEDED :)"
   ]
  },
  {
   "cell_type": "code",
   "execution_count": null,
   "metadata": {
    "id": "CyfFDD3Zsktr"
   },
   "outputs": [],
   "source": [
    "# ADVANCED: let's get back to the if statement and try to turn it into a function!"
   ]
  }
 ],
 "metadata": {
  "colab": {
   "provenance": []
  },
  "kernelspec": {
   "display_name": "Python 3",
   "name": "python3"
  },
  "language_info": {
   "codemirror_mode": {
    "name": "ipython",
    "version": 3
   },
   "file_extension": ".py",
   "mimetype": "text/x-python",
   "name": "python",
   "nbconvert_exporter": "python",
   "pygments_lexer": "ipython3",
   "version": "3.11.7"
  }
 },
 "nbformat": 4,
 "nbformat_minor": 0
}
