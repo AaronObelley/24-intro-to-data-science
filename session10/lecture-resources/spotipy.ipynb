{
 "cells": [
  {
   "cell_type": "markdown",
   "metadata": {},
   "source": [
    "# SpotiPy\n",
    "\n",
    "Spotipy is a dedicated library for interacting with Spotify's own API. \n",
    "\n",
    "It was designed for easier integration with other applications but we can use it for data analysis!\n",
    "\n",
    "You will need to setup a free spotify account to generate an API key to access the spotify API. \n",
    "\n",
    "Follow steps <a href=\"https://developer.spotify.com/documentation/web-api\">here</a> to generate an API Key.\n",
    "\n",
    "<a href=\"https://spotipy.readthedocs.io/en/2.24.0/\">SpotiPy Documentation</a>\n"
   ]
  },
  {
   "cell_type": "markdown",
   "metadata": {},
   "source": [
    "## Importing and Authorising\n",
    "\n",
    "In your virtual environment/python kernel, you will need to \"pip install spotipy\". Or if you're using Anaconda \"conda install spotipy\"."
   ]
  },
  {
   "cell_type": "code",
   "execution_count": 2,
   "metadata": {},
   "outputs": [],
   "source": [
    "import spotipy\n",
    "from spotipy.oauth2 import SpotifyClientCredentials\n",
    "\n",
    "cid = '769e330401b64a2dab8e65e9d7b94ae4' #ADD YOUR CLIENT ID HERE\n",
    "secret = '74877687da244a22b284d4a1337d8b90' #ADD YOUR SECRET ID HERE\n",
    "\n",
    "client_credentials_manager = SpotifyClientCredentials(client_id=cid, client_secret=secret)\n",
    "sp = spotipy.Spotify(client_credentials_manager = client_credentials_manager)"
   ]
  },
  {
   "cell_type": "markdown",
   "metadata": {},
   "source": [
    "## Loading Data"
   ]
  },
  {
   "cell_type": "code",
   "execution_count": 6,
   "metadata": {},
   "outputs": [],
   "source": [
    "from spotipy.exceptions import SpotifyException\n",
    "\n",
    "artist_name = []\n",
    "track_name = []\n",
    "popularity = []\n",
    "track_id = []\n",
    "\n",
    "for i in range(0, 1000, 50):\n",
    "    try:\n",
    "        track_results = sp.search(q='year:2018', type='track', limit=50, offset=i)\n",
    "        for t in track_results['tracks']['items']:\n",
    "            artist_name.append(t['artists'][0]['name'])\n",
    "            track_name.append(t['name'])\n",
    "            track_id.append(t['id'])\n",
    "            popularity.append(t['popularity'])\n",
    "    except SpotifyException as e:\n",
    "        print(f\"Spotify API error: {e}\")\n",
    "        break"
   ]
  },
  {
   "cell_type": "markdown",
   "metadata": {},
   "source": [
    "## Loading Data into a DataFrame for Analysis"
   ]
  },
  {
   "cell_type": "code",
   "execution_count": 10,
   "metadata": {},
   "outputs": [
    {
     "name": "stdout",
     "output_type": "stream",
     "text": [
      "(1000, 4)\n"
     ]
    },
    {
     "data": {
      "text/html": [
       "<div>\n",
       "<style scoped>\n",
       "    .dataframe tbody tr th:only-of-type {\n",
       "        vertical-align: middle;\n",
       "    }\n",
       "\n",
       "    .dataframe tbody tr th {\n",
       "        vertical-align: top;\n",
       "    }\n",
       "\n",
       "    .dataframe thead th {\n",
       "        text-align: right;\n",
       "    }\n",
       "</style>\n",
       "<table border=\"1\" class=\"dataframe\">\n",
       "  <thead>\n",
       "    <tr style=\"text-align: right;\">\n",
       "      <th></th>\n",
       "      <th>artist_name</th>\n",
       "      <th>track_name</th>\n",
       "      <th>track_id</th>\n",
       "      <th>popularity</th>\n",
       "    </tr>\n",
       "  </thead>\n",
       "  <tbody>\n",
       "    <tr>\n",
       "      <th>0</th>\n",
       "      <td>Luke Combs</td>\n",
       "      <td>She Got the Best of Me</td>\n",
       "      <td>698eQRku24PIYPQPHItKlA</td>\n",
       "      <td>83</td>\n",
       "    </tr>\n",
       "    <tr>\n",
       "      <th>1</th>\n",
       "      <td>Luke Combs</td>\n",
       "      <td>Beautiful Crazy</td>\n",
       "      <td>2rxQMGVafnNaRaXlRMWPde</td>\n",
       "      <td>82</td>\n",
       "    </tr>\n",
       "    <tr>\n",
       "      <th>2</th>\n",
       "      <td>Kendrick Lamar</td>\n",
       "      <td>All The Stars (with SZA)</td>\n",
       "      <td>3GCdLUSnKSMJhs4Tj6CV3s</td>\n",
       "      <td>86</td>\n",
       "    </tr>\n",
       "    <tr>\n",
       "      <th>3</th>\n",
       "      <td>Morgan Wallen</td>\n",
       "      <td>Whiskey Glasses</td>\n",
       "      <td>57TEkZN3f84tFJFHFrD4pO</td>\n",
       "      <td>80</td>\n",
       "    </tr>\n",
       "    <tr>\n",
       "      <th>4</th>\n",
       "      <td>Morgan Wallen</td>\n",
       "      <td>Chasin' You</td>\n",
       "      <td>0WiyWiJDkNCyGNqkv7NByy</td>\n",
       "      <td>79</td>\n",
       "    </tr>\n",
       "  </tbody>\n",
       "</table>\n",
       "</div>"
      ],
      "text/plain": [
       "      artist_name                track_name                track_id  \\\n",
       "0      Luke Combs    She Got the Best of Me  698eQRku24PIYPQPHItKlA   \n",
       "1      Luke Combs           Beautiful Crazy  2rxQMGVafnNaRaXlRMWPde   \n",
       "2  Kendrick Lamar  All The Stars (with SZA)  3GCdLUSnKSMJhs4Tj6CV3s   \n",
       "3   Morgan Wallen           Whiskey Glasses  57TEkZN3f84tFJFHFrD4pO   \n",
       "4   Morgan Wallen               Chasin' You  0WiyWiJDkNCyGNqkv7NByy   \n",
       "\n",
       "   popularity  \n",
       "0          83  \n",
       "1          82  \n",
       "2          86  \n",
       "3          80  \n",
       "4          79  "
      ]
     },
     "execution_count": 10,
     "metadata": {},
     "output_type": "execute_result"
    }
   ],
   "source": [
    "import pandas as pd\n",
    "track_dataframe = pd.DataFrame({'artist_name' : artist_name, 'track_name' : track_name, 'track_id' : track_id, 'popularity' : popularity})\n",
    "print(track_dataframe.shape)\n",
    "track_dataframe.head()"
   ]
  }
 ],
 "metadata": {
  "kernelspec": {
   "display_name": "venv",
   "language": "python",
   "name": "python3"
  },
  "language_info": {
   "codemirror_mode": {
    "name": "ipython",
    "version": 3
   },
   "file_extension": ".py",
   "mimetype": "text/x-python",
   "name": "python",
   "nbconvert_exporter": "python",
   "pygments_lexer": "ipython3",
   "version": "3.12.1"
  }
 },
 "nbformat": 4,
 "nbformat_minor": 2
}
