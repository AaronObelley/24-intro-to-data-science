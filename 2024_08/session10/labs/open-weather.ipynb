{
 "cells": [
  {
   "cell_type": "markdown",
   "metadata": {},
   "source": [
    "# Lab Exercise: Using OpenWeather API to Collect and Export Data\n",
    "\n",
    "## Objective\n",
    "- Fetch weather data for multiple cities using the OpenWeather API.\n",
    "- Process and clean the retrieved data.\n",
    "- Store the data in a pandas DataFrame.\n",
    "- Export the data to a CSV file.\n",
    "- Plot the data\n",
    "\n",
    "## 1: Sign Up for OpenWeather API and Obtain an API Key\n",
    "\n",
    "1. Go to the [OpenWeather website](https://home.openweathermap.org/users/sign_up) and sign up for an account.\n",
    "2. After logging in, navigate to the API Keys section of your account dashboard.\n",
    "3. Copy your unique API key, which will be used to authenticate your requests.\n",
    "\n",
    "## 2: Install Necessary Python Libraries\n",
    "\n",
    "1. Install the required Python libraries if they are not already installed. You will need:\n",
    "   - `requests` for making HTTP requests.\n",
    "   - `pandas` for data manipulation and analysis."
   ]
  },
  {
   "cell_type": "code",
   "execution_count": null,
   "metadata": {},
   "outputs": [],
   "source": [
    "! pip install..."
   ]
  },
  {
   "cell_type": "code",
   "execution_count": 1,
   "metadata": {},
   "outputs": [],
   "source": [
    "import requests\n",
    "\n",
    "import pandas as pd #library for making HTTP requests\n",
    "\n",
    "import matplotlib.pyplot as plt"
   ]
  },
  {
   "cell_type": "code",
   "execution_count": 2,
   "metadata": {},
   "outputs": [],
   "source": [
    "from api_keys import WEATHER_KEY"
   ]
  },
  {
   "cell_type": "markdown",
   "metadata": {},
   "source": [
    "## 4: Get the base URL and define your endpoints \n",
    "\n",
    "See the class example for reference and also refer to the python requests library docs for examples.\n",
    "\n",
    "***Hint*** search for python requests params, this way you can make a request without having to know the exact HTTP request syntax! \n",
    "\n",
    "Get data for London - this will be your query. \n",
    "\n",
    "Remember you need your API key!\n",
    "\n",
    "If you get a 400 code there is something wrong with your request, or your API key isn't working yet.\n",
    "If you get 200 it worked! "
   ]
  },
  {
   "cell_type": "code",
   "execution_count": 6,
   "metadata": {},
   "outputs": [
    {
     "data": {
      "text/plain": [
       "200"
      ]
     },
     "execution_count": 6,
     "metadata": {},
     "output_type": "execute_result"
    }
   ],
   "source": [
    "CITY_NAME = 'London'\n",
    "request_url = f'https://api.openweathermap.org/data/2.5/weather?q={CITY_NAME}&appid={WEATHER_KEY}'\n",
    "\n",
    "response = requests.get(request_url)\n",
    "\n",
    "response.status_code"
   ]
  },
  {
   "cell_type": "code",
   "execution_count": 12,
   "metadata": {},
   "outputs": [
    {
     "data": {
      "text/plain": [
       "{'coord': {'lon': -0.1257, 'lat': 51.5085},\n",
       " 'weather': [{'id': 803,\n",
       "   'main': 'Clouds',\n",
       "   'description': 'broken clouds',\n",
       "   'icon': '04d'}],\n",
       " 'base': 'stations',\n",
       " 'main': {'temp': 293.81,\n",
       "  'feels_like': 293.76,\n",
       "  'temp_min': 291.82,\n",
       "  'temp_max': 295.44,\n",
       "  'pressure': 1013,\n",
       "  'humidity': 70,\n",
       "  'sea_level': 1013,\n",
       "  'grnd_level': 1009},\n",
       " 'visibility': 10000,\n",
       " 'wind': {'speed': 5.66, 'deg': 290},\n",
       " 'clouds': {'all': 75},\n",
       " 'dt': 1725378525,\n",
       " 'sys': {'type': 2,\n",
       "  'id': 268730,\n",
       "  'country': 'GB',\n",
       "  'sunrise': 1725340618,\n",
       "  'sunset': 1725388980},\n",
       " 'timezone': 3600,\n",
       " 'id': 2643743,\n",
       " 'name': 'London',\n",
       " 'cod': 200}"
      ]
     },
     "execution_count": 12,
     "metadata": {},
     "output_type": "execute_result"
    }
   ],
   "source": [
    "resp_json = response.json()\n",
    "resp_json"
   ]
  },
  {
   "cell_type": "code",
   "execution_count": 13,
   "metadata": {},
   "outputs": [
    {
     "data": {
      "text/plain": [
       "[{'id': 803, 'main': 'Clouds', 'description': 'broken clouds', 'icon': '04d'}]"
      ]
     },
     "execution_count": 13,
     "metadata": {},
     "output_type": "execute_result"
    }
   ],
   "source": [
    "resp_json['weather']"
   ]
  },
  {
   "cell_type": "code",
   "execution_count": 14,
   "metadata": {},
   "outputs": [
    {
     "data": {
      "text/plain": [
       "{'id': 803, 'main': 'Clouds', 'description': 'broken clouds', 'icon': '04d'}"
      ]
     },
     "execution_count": 14,
     "metadata": {},
     "output_type": "execute_result"
    }
   ],
   "source": [
    "resp_json['weather'][0]"
   ]
  },
  {
   "cell_type": "code",
   "execution_count": 9,
   "metadata": {},
   "outputs": [],
   "source": [
    "gh_resp = requests.get('https://api.github.com')"
   ]
  },
  {
   "cell_type": "code",
   "execution_count": 11,
   "metadata": {},
   "outputs": [
    {
     "data": {
      "text/plain": [
       "{'current_user_url': 'https://api.github.com/user',\n",
       " 'current_user_authorizations_html_url': 'https://github.com/settings/connections/applications{/client_id}',\n",
       " 'authorizations_url': 'https://api.github.com/authorizations',\n",
       " 'code_search_url': 'https://api.github.com/search/code?q={query}{&page,per_page,sort,order}',\n",
       " 'commit_search_url': 'https://api.github.com/search/commits?q={query}{&page,per_page,sort,order}',\n",
       " 'emails_url': 'https://api.github.com/user/emails',\n",
       " 'emojis_url': 'https://api.github.com/emojis',\n",
       " 'events_url': 'https://api.github.com/events',\n",
       " 'feeds_url': 'https://api.github.com/feeds',\n",
       " 'followers_url': 'https://api.github.com/user/followers',\n",
       " 'following_url': 'https://api.github.com/user/following{/target}',\n",
       " 'gists_url': 'https://api.github.com/gists{/gist_id}',\n",
       " 'hub_url': 'https://api.github.com/hub',\n",
       " 'issue_search_url': 'https://api.github.com/search/issues?q={query}{&page,per_page,sort,order}',\n",
       " 'issues_url': 'https://api.github.com/issues',\n",
       " 'keys_url': 'https://api.github.com/user/keys',\n",
       " 'label_search_url': 'https://api.github.com/search/labels?q={query}&repository_id={repository_id}{&page,per_page}',\n",
       " 'notifications_url': 'https://api.github.com/notifications',\n",
       " 'organization_url': 'https://api.github.com/orgs/{org}',\n",
       " 'organization_repositories_url': 'https://api.github.com/orgs/{org}/repos{?type,page,per_page,sort}',\n",
       " 'organization_teams_url': 'https://api.github.com/orgs/{org}/teams',\n",
       " 'public_gists_url': 'https://api.github.com/gists/public',\n",
       " 'rate_limit_url': 'https://api.github.com/rate_limit',\n",
       " 'repository_url': 'https://api.github.com/repos/{owner}/{repo}',\n",
       " 'repository_search_url': 'https://api.github.com/search/repositories?q={query}{&page,per_page,sort,order}',\n",
       " 'current_user_repositories_url': 'https://api.github.com/user/repos{?type,page,per_page,sort}',\n",
       " 'starred_url': 'https://api.github.com/user/starred{/owner}{/repo}',\n",
       " 'starred_gists_url': 'https://api.github.com/gists/starred',\n",
       " 'topic_search_url': 'https://api.github.com/search/topics?q={query}{&page,per_page}',\n",
       " 'user_url': 'https://api.github.com/users/{user}',\n",
       " 'user_organizations_url': 'https://api.github.com/user/orgs',\n",
       " 'user_repositories_url': 'https://api.github.com/users/{user}/repos{?type,page,per_page,sort}',\n",
       " 'user_search_url': 'https://api.github.com/search/users?q={query}{&page,per_page,sort,order}'}"
      ]
     },
     "execution_count": 11,
     "metadata": {},
     "output_type": "execute_result"
    }
   ],
   "source": [
    "gh_resp.json()"
   ]
  },
  {
   "cell_type": "code",
   "execution_count": 15,
   "metadata": {},
   "outputs": [],
   "source": [
    "simple_dict = {'name': 'Marysia', 'age': 29, 'city': 'London', 'hobbies': ['crocheting', 'hiking', 'music']}"
   ]
  },
  {
   "cell_type": "code",
   "execution_count": 16,
   "metadata": {},
   "outputs": [
    {
     "data": {
      "text/plain": [
       "{'name': 'Marysia',\n",
       " 'age': 29,\n",
       " 'city': 'London',\n",
       " 'hobbies': ['crocheting', 'hiking', 'music']}"
      ]
     },
     "execution_count": 16,
     "metadata": {},
     "output_type": "execute_result"
    }
   ],
   "source": [
    "simple_dict"
   ]
  },
  {
   "cell_type": "code",
   "execution_count": 18,
   "metadata": {},
   "outputs": [
    {
     "data": {
      "text/plain": [
       "29"
      ]
     },
     "execution_count": 18,
     "metadata": {},
     "output_type": "execute_result"
    }
   ],
   "source": [
    "simple_dict['age']"
   ]
  },
  {
   "cell_type": "markdown",
   "metadata": {},
   "source": [
    "## Make the request and store it in a variable in JSON format\n",
    "\n",
    "Then print it to see what it looks like "
   ]
  },
  {
   "cell_type": "code",
   "execution_count": null,
   "metadata": {},
   "outputs": [],
   "source": [
    "response_json = ...\n",
    "\n",
    "response_json"
   ]
  },
  {
   "cell_type": "markdown",
   "metadata": {},
   "source": [
    "## 5: Target specific data\n",
    "\n",
    "So you should now have weather for London.\n",
    "\n",
    "Analyse the JSON data and get the city name, temperature, humidity, weather description, and windspeed and store them in their own variables."
   ]
  },
  {
   "cell_type": "code",
   "execution_count": null,
   "metadata": {},
   "outputs": [],
   "source": [
    "city_name = ...\n",
    "temperature = ...\n",
    "humidity = ...\n",
    "weather_description = ...\n",
    "wind_speed = ...\n",
    "\n",
    "print(f\"City: {city_name}, Temperature: {temperature}°C, Humidity: {humidity}%, Weather: {weather_description}, Wind Speed: {wind_speed} m/s\")"
   ]
  },
  {
   "cell_type": "markdown",
   "metadata": {},
   "source": [
    "# 6: Create a data frame using pandas \n",
    "\n",
    "Create columns and give the data frame the data you've collected. "
   ]
  },
  {
   "cell_type": "code",
   "execution_count": null,
   "metadata": {},
   "outputs": [],
   "source": [
    "df = ...\n",
    "\n",
    "df"
   ]
  },
  {
   "cell_type": "markdown",
   "metadata": {},
   "source": [
    "## 7: Get data for more cities\n",
    "\n",
    "Nice work! you've got data for London and made a data frame. But let's now get data for more cities so we can compare. \n",
    "\n",
    "Start by making a list of the cities you want to get data for. You'll be making an API request for each city and the API limit is 60 requests a minute, so don't do more than this. 5-10 will be good."
   ]
  },
  {
   "cell_type": "code",
   "execution_count": null,
   "metadata": {},
   "outputs": [],
   "source": [
    "cities = [...]"
   ]
  },
  {
   "cell_type": "markdown",
   "metadata": {},
   "source": [
    "## 8: Use a for loop to make multiple requests\n",
    "\n",
    "Make a for loop to create a request for each city. Add the data you've collected to a the `cities_weather_data` list. \n",
    "\n",
    "If you're struggling then pair up with a group mate, but basically what you're doing is most of the previous steps within a single loop."
   ]
  },
  {
   "cell_type": "code",
   "execution_count": null,
   "metadata": {},
   "outputs": [],
   "source": [
    "weather_data_list = []\n",
    "\n",
    "for city in cities:\n",
    "    \n",
    "    response = # Make a request to the API using the city name\n",
    "\n",
    "    if response.status_code == 200:\n",
    "        response_json = ...\n",
    "        city_name = ...\n",
    "        temperature = ...\n",
    "        humidity = ...\n",
    "        weather_description = ...\n",
    "        wind_speed = ...\n",
    "        \n",
    "        # create a dictionary with the extracted data\n",
    "        extracted_data = {\"\": ... , \"\": ... }\n",
    "        \n",
    "        # append the dictionary to the list\n",
    "        weather_data_list.append(extracted_data)\n",
    "        \n",
    "weather_data_list"
   ]
  },
  {
   "cell_type": "markdown",
   "metadata": {},
   "source": [
    "## 9: Create a data frame with all your cities.\n",
    "\n",
    "You should just be able to give the dataframe function your `weather_data_list ` list. "
   ]
  },
  {
   "cell_type": "code",
   "execution_count": null,
   "metadata": {},
   "outputs": [],
   "source": [
    "weather_data_df = ..."
   ]
  },
  {
   "cell_type": "markdown",
   "metadata": {},
   "source": [
    "## 10: Organise the data by temperature\n",
    "\n",
    "Organise by dataframe by the temperature column, and reset the index. "
   ]
  },
  {
   "cell_type": "code",
   "execution_count": null,
   "metadata": {},
   "outputs": [],
   "source": []
  },
  {
   "cell_type": "markdown",
   "metadata": {},
   "source": [
    "## 11: Export the data as a CSV\n",
    "\n",
    "Look for data frame to CSV function"
   ]
  },
  {
   "cell_type": "code",
   "execution_count": null,
   "metadata": {},
   "outputs": [],
   "source": []
  },
  {
   "cell_type": "markdown",
   "metadata": {},
   "source": [
    "## 12: Plot your data on a graph using matplot lib \n",
    "\n",
    "Pick a data point and plot it on a graph. Experiment with graph types and formatting. Try plotting more than one data point for each city e.g temperature and humidity. "
   ]
  },
  {
   "cell_type": "code",
   "execution_count": null,
   "metadata": {},
   "outputs": [],
   "source": []
  },
  {
   "cell_type": "markdown",
   "metadata": {},
   "source": [
    "## Extra Challenges \n",
    "- Modify your script to handle additional cities dynamically by reading from an external CSV file containing a list of cities. You could find a data set on kaggle or create a dataframe and export as CSV.\n",
    "- Implement error handling for network issues, API rate limits, and incorrect city names"
   ]
  }
 ],
 "metadata": {
  "kernelspec": {
   "display_name": ".venv",
   "language": "python",
   "name": "python3"
  },
  "language_info": {
   "codemirror_mode": {
    "name": "ipython",
    "version": 3
   },
   "file_extension": ".py",
   "mimetype": "text/x-python",
   "name": "python",
   "nbconvert_exporter": "python",
   "pygments_lexer": "ipython3",
   "version": "3.11.7"
  }
 },
 "nbformat": 4,
 "nbformat_minor": 2
}
