{
 "cells": [
  {
   "cell_type": "code",
   "execution_count": 12,
   "metadata": {},
   "outputs": [
    {
     "name": "stdout",
     "output_type": "stream",
     "text": [
      "Requirement already satisfied: requests in c:\\users\\nike3\\peckhamdazprojects\\daz-venv\\lib\\site-packages (2.32.3)\n",
      "Requirement already satisfied: pandas in c:\\users\\nike3\\peckhamdazprojects\\daz-venv\\lib\\site-packages (2.2.3)\n",
      "Requirement already satisfied: matplotlib in c:\\users\\nike3\\peckhamdazprojects\\daz-venv\\lib\\site-packages (3.10.0)\n",
      "Requirement already satisfied: spotipy in c:\\users\\nike3\\peckhamdazprojects\\daz-venv\\lib\\site-packages (2.25.0)\n",
      "Requirement already satisfied: google-api-python-client in c:\\users\\nike3\\peckhamdazprojects\\daz-venv\\lib\\site-packages (2.160.0)\n",
      "Requirement already satisfied: textblob in c:\\users\\nike3\\peckhamdazprojects\\daz-venv\\lib\\site-packages (0.19.0)\n",
      "Requirement already satisfied: charset-normalizer<4,>=2 in c:\\users\\nike3\\peckhamdazprojects\\daz-venv\\lib\\site-packages (from requests) (3.4.1)\n",
      "Requirement already satisfied: idna<4,>=2.5 in c:\\users\\nike3\\peckhamdazprojects\\daz-venv\\lib\\site-packages (from requests) (3.10)\n",
      "Requirement already satisfied: urllib3<3,>=1.21.1 in c:\\users\\nike3\\peckhamdazprojects\\daz-venv\\lib\\site-packages (from requests) (2.3.0)\n",
      "Requirement already satisfied: certifi>=2017.4.17 in c:\\users\\nike3\\peckhamdazprojects\\daz-venv\\lib\\site-packages (from requests) (2025.1.31)\n",
      "Requirement already satisfied: numpy>=1.23.2 in c:\\users\\nike3\\peckhamdazprojects\\daz-venv\\lib\\site-packages (from pandas) (2.2.2)\n",
      "Requirement already satisfied: python-dateutil>=2.8.2 in c:\\users\\nike3\\peckhamdazprojects\\daz-venv\\lib\\site-packages (from pandas) (2.9.0.post0)\n",
      "Requirement already satisfied: pytz>=2020.1 in c:\\users\\nike3\\peckhamdazprojects\\daz-venv\\lib\\site-packages (from pandas) (2025.1)\n",
      "Requirement already satisfied: tzdata>=2022.7 in c:\\users\\nike3\\peckhamdazprojects\\daz-venv\\lib\\site-packages (from pandas) (2025.1)\n",
      "Requirement already satisfied: contourpy>=1.0.1 in c:\\users\\nike3\\peckhamdazprojects\\daz-venv\\lib\\site-packages (from matplotlib) (1.3.1)\n",
      "Requirement already satisfied: cycler>=0.10 in c:\\users\\nike3\\peckhamdazprojects\\daz-venv\\lib\\site-packages (from matplotlib) (0.12.1)\n",
      "Requirement already satisfied: fonttools>=4.22.0 in c:\\users\\nike3\\peckhamdazprojects\\daz-venv\\lib\\site-packages (from matplotlib) (4.56.0)\n",
      "Requirement already satisfied: kiwisolver>=1.3.1 in c:\\users\\nike3\\peckhamdazprojects\\daz-venv\\lib\\site-packages (from matplotlib) (1.4.8)\n",
      "Requirement already satisfied: packaging>=20.0 in c:\\users\\nike3\\peckhamdazprojects\\daz-venv\\lib\\site-packages (from matplotlib) (24.2)\n",
      "Requirement already satisfied: pillow>=8 in c:\\users\\nike3\\peckhamdazprojects\\daz-venv\\lib\\site-packages (from matplotlib) (11.1.0)\n",
      "Requirement already satisfied: pyparsing>=2.3.1 in c:\\users\\nike3\\peckhamdazprojects\\daz-venv\\lib\\site-packages (from matplotlib) (3.2.1)\n",
      "Requirement already satisfied: redis>=3.5.3 in c:\\users\\nike3\\peckhamdazprojects\\daz-venv\\lib\\site-packages (from spotipy) (5.2.1)\n",
      "Requirement already satisfied: httplib2<1.dev0,>=0.19.0 in c:\\users\\nike3\\peckhamdazprojects\\daz-venv\\lib\\site-packages (from google-api-python-client) (0.22.0)\n",
      "Requirement already satisfied: google-auth!=2.24.0,!=2.25.0,<3.0.0.dev0,>=1.32.0 in c:\\users\\nike3\\peckhamdazprojects\\daz-venv\\lib\\site-packages (from google-api-python-client) (2.38.0)\n",
      "Requirement already satisfied: google-auth-httplib2<1.0.0,>=0.2.0 in c:\\users\\nike3\\peckhamdazprojects\\daz-venv\\lib\\site-packages (from google-api-python-client) (0.2.0)\n",
      "Requirement already satisfied: google-api-core!=2.0.*,!=2.1.*,!=2.2.*,!=2.3.0,<3.0.0.dev0,>=1.31.5 in c:\\users\\nike3\\peckhamdazprojects\\daz-venv\\lib\\site-packages (from google-api-python-client) (2.24.1)\n",
      "Requirement already satisfied: uritemplate<5,>=3.0.1 in c:\\users\\nike3\\peckhamdazprojects\\daz-venv\\lib\\site-packages (from google-api-python-client) (4.1.1)\n",
      "Requirement already satisfied: nltk>=3.9 in c:\\users\\nike3\\peckhamdazprojects\\daz-venv\\lib\\site-packages (from textblob) (3.9.1)\n",
      "Requirement already satisfied: googleapis-common-protos<2.0.dev0,>=1.56.2 in c:\\users\\nike3\\peckhamdazprojects\\daz-venv\\lib\\site-packages (from google-api-core!=2.0.*,!=2.1.*,!=2.2.*,!=2.3.0,<3.0.0.dev0,>=1.31.5->google-api-python-client) (1.66.0)\n",
      "Requirement already satisfied: protobuf!=3.20.0,!=3.20.1,!=4.21.0,!=4.21.1,!=4.21.2,!=4.21.3,!=4.21.4,!=4.21.5,<6.0.0.dev0,>=3.19.5 in c:\\users\\nike3\\peckhamdazprojects\\daz-venv\\lib\\site-packages (from google-api-core!=2.0.*,!=2.1.*,!=2.2.*,!=2.3.0,<3.0.0.dev0,>=1.31.5->google-api-python-client) (5.29.3)\n",
      "Requirement already satisfied: proto-plus<2.0.0dev,>=1.22.3 in c:\\users\\nike3\\peckhamdazprojects\\daz-venv\\lib\\site-packages (from google-api-core!=2.0.*,!=2.1.*,!=2.2.*,!=2.3.0,<3.0.0.dev0,>=1.31.5->google-api-python-client) (1.26.0)\n",
      "Requirement already satisfied: cachetools<6.0,>=2.0.0 in c:\\users\\nike3\\peckhamdazprojects\\daz-venv\\lib\\site-packages (from google-auth!=2.24.0,!=2.25.0,<3.0.0.dev0,>=1.32.0->google-api-python-client) (5.5.1)\n",
      "Requirement already satisfied: pyasn1-modules>=0.2.1 in c:\\users\\nike3\\peckhamdazprojects\\daz-venv\\lib\\site-packages (from google-auth!=2.24.0,!=2.25.0,<3.0.0.dev0,>=1.32.0->google-api-python-client) (0.4.1)\n",
      "Requirement already satisfied: rsa<5,>=3.1.4 in c:\\users\\nike3\\peckhamdazprojects\\daz-venv\\lib\\site-packages (from google-auth!=2.24.0,!=2.25.0,<3.0.0.dev0,>=1.32.0->google-api-python-client) (4.9)\n",
      "Requirement already satisfied: click in c:\\users\\nike3\\peckhamdazprojects\\daz-venv\\lib\\site-packages (from nltk>=3.9->textblob) (8.1.8)\n",
      "Requirement already satisfied: joblib in c:\\users\\nike3\\peckhamdazprojects\\daz-venv\\lib\\site-packages (from nltk>=3.9->textblob) (1.4.2)\n",
      "Requirement already satisfied: regex>=2021.8.3 in c:\\users\\nike3\\peckhamdazprojects\\daz-venv\\lib\\site-packages (from nltk>=3.9->textblob) (2024.11.6)\n",
      "Requirement already satisfied: tqdm in c:\\users\\nike3\\peckhamdazprojects\\daz-venv\\lib\\site-packages (from nltk>=3.9->textblob) (4.67.1)\n",
      "Requirement already satisfied: six>=1.5 in c:\\users\\nike3\\peckhamdazprojects\\daz-venv\\lib\\site-packages (from python-dateutil>=2.8.2->pandas) (1.17.0)\n",
      "Requirement already satisfied: pyasn1<0.7.0,>=0.4.6 in c:\\users\\nike3\\peckhamdazprojects\\daz-venv\\lib\\site-packages (from pyasn1-modules>=0.2.1->google-auth!=2.24.0,!=2.25.0,<3.0.0.dev0,>=1.32.0->google-api-python-client) (0.6.1)\n",
      "Requirement already satisfied: colorama in c:\\users\\nike3\\peckhamdazprojects\\daz-venv\\lib\\site-packages (from click->nltk>=3.9->textblob) (0.4.6)\n",
      "Note: you may need to restart the kernel to use updated packages.\n"
     ]
    },
    {
     "name": "stderr",
     "output_type": "stream",
     "text": [
      "\n",
      "[notice] A new release of pip is available: 24.0 -> 25.0.1\n",
      "[notice] To update, run: python.exe -m pip install --upgrade pip\n"
     ]
    }
   ],
   "source": [
    "pip install requests pandas matplotlib spotipy google-api-python-client textblob\n"
   ]
  },
  {
   "cell_type": "code",
   "execution_count": 13,
   "metadata": {},
   "outputs": [],
   "source": [
    "import requests\n",
    "import pandas as pd\n",
    "import matplotlib.pyplot as plt"
   ]
  },
  {
   "cell_type": "code",
   "execution_count": 15,
   "metadata": {},
   "outputs": [
    {
     "name": "stdout",
     "output_type": "stream",
     "text": [
      "{'coord': {'lon': 139.6917, 'lat': 35.6895}, 'weather': [{'id': 800, 'main': 'Clear', 'description': 'clear sky', 'icon': '01n'}], 'base': 'stations', 'main': {'temp': 5.27, 'feels_like': -0.13, 'temp_min': 3.7, 'temp_max': 5.91, 'pressure': 1023, 'humidity': 34, 'sea_level': 1023, 'grnd_level': 1021}, 'visibility': 10000, 'wind': {'speed': 10.29, 'deg': 330}, 'clouds': {'all': 0}, 'dt': 1739269730, 'sys': {'type': 2, 'id': 268395, 'country': 'JP', 'sunrise': 1739223169, 'sunset': 1739261897}, 'timezone': 32400, 'id': 1850144, 'name': 'Tokyo', 'cod': 200}\n"
     ]
    }
   ],
   "source": [
    "API_KEY = \"621136cc232cd3acacfec6e180971b50\"\n",
    "CITY_NAME = 'Tokyo'\n",
    "\n",
    "url = f\"https://api.openweathermap.org/data/2.5/weather?q={CITY_NAME}&appid={API_KEY}&units=metric\"\n",
    "\n",
    "response = requests.get(url)\n",
    "\n",
    "data = response.json()\n",
    "\n",
    "print(data)\n",
    "\n",
    "\n",
    "\n"
   ]
  },
  {
   "cell_type": "code",
   "execution_count": 19,
   "metadata": {},
   "outputs": [
    {
     "name": "stdout",
     "output_type": "stream",
     "text": [
      "City: Tokyo\n",
      "Temperature: 5.27°C\n",
      "Humidity: 34%\n",
      "Weather: clear sky\n"
     ]
    }
   ],
   "source": [
    "if \"main\" in data:\n",
    "    city = data[\"name\"]\n",
    "    temp = data[\"main\"][\"temp\"]\n",
    "    humidity = data[\"main\"][\"humidity\"]\n",
    "    weather = data[\"weather\"][0][\"description\"]\n",
    "\n",
    "    print(f\"City: {city}\\nTemperature: {temp}°C\\nHumidity: {humidity}%\\nWeather: {weather}\")\n",
    "else:\n",
    "    print(\"Error fetching weather data.\")"
   ]
  },
  {
   "cell_type": "code",
   "execution_count": 22,
   "metadata": {},
   "outputs": [
    {
     "name": "stdout",
     "output_type": "stream",
     "text": [
      "    City  Temperature (°C)  Humidity (%) Weather Description\n",
      "0  Tokyo              5.27            34           clear sky\n"
     ]
    }
   ],
   "source": [
    "data_dict = {\n",
    "    \"City\": [city],\n",
    "    \"Temperature (°C)\": [temp],\n",
    "    \"Humidity (%)\": [humidity],\n",
    "    \"Weather Description\" : [weather]\n",
    "}\n",
    "\n",
    "weather_df = pd.DataFrame(data_dict)\n",
    "print(weather_df)\n"
   ]
  },
  {
   "cell_type": "code",
   "execution_count": 23,
   "metadata": {},
   "outputs": [
    {
     "name": "stdout",
     "output_type": "stream",
     "text": [
      "Data saved to weather_data.cvs\n"
     ]
    }
   ],
   "source": [
    "weather_df.to_csv(\"weather_data.cvs\", index=False)\n",
    "print(\"Data saved to weather_data.cvs\")"
   ]
  },
  {
   "cell_type": "code",
   "execution_count": 29,
   "metadata": {},
   "outputs": [
    {
     "data": {
      "image/png": "[encoded data removed]",
      "text/plain": [
       "<Figure size 640x480 with 1 Axes>"
      ]
     },
     "metadata": {},
     "output_type": "display_data"
    }
   ],
   "source": [
    "plt.Figure(figsize=(6,4))\n",
    "plt.bar(weather_df[\"City\"], weather_df[\"Temperature (°C)\"], color='skyblue')\n",
    "plt.xlabel(\"City\")\n",
    "plt.ylabel(\"Temperature (°C)\")\n",
    "plt.title(\"Current Temperature\")\n",
    "plt.show()"
   ]
  }
 ],
 "metadata": {
  "kernelspec": {
   "display_name": "daz-venv",
   "language": "python",
   "name": "python3"
  },
  "language_info": {
   "codemirror_mode": {
    "name": "ipython",
    "version": 3
   },
   "file_extension": ".py",
   "mimetype": "text/x-python",
   "name": "python",
   "nbconvert_exporter": "python",
   "pygments_lexer": "ipython3",
   "version": "3.11.9"
  }
 },
 "nbformat": 4,
 "nbformat_minor": 2
}
