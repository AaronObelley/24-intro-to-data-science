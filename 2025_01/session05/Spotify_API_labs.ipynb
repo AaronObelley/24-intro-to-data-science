{
 "cells": [
  {
   "cell_type": "code",
   "execution_count": 2,
   "metadata": {},
   "outputs": [],
   "source": [
    "import spotipy\n",
    "from spotipy.oauth2 import SpotifyClientCredentials\n",
    "import pandas as pd\n",
    "import matplotlib.pyplot as plt"
   ]
  },
  {
   "cell_type": "code",
   "execution_count": 3,
   "metadata": {},
   "outputs": [],
   "source": [
    "SPOTIFY_CLIENT_ID = \"99163d70b8ea4fb7b5aa3796081a0dea\"\n",
    "SPOTIFY_CLIENT_SECRET = \"74c278089c2142ddb42d071b27499938\"\n",
    "\n",
    "client_credentials_manager = SpotifyClientCredentials(client_id=SPOTIFY_CLIENT_ID,\n",
    "                                                      client_secret=SPOTIFY_CLIENT_SECRET)\n",
    "sp = spotipy.Spotify(client_credentials_manager=client_credentials_manager)"
   ]
  },
  {
   "cell_type": "code",
   "execution_count": 4,
   "metadata": {},
   "outputs": [],
   "source": [
    "artist_name = []\n",
    "track_name = []\n",
    "popularity = []\n",
    "track_id = []\n",
    "images = []\n",
    "\n",
    "for i in range(0, 1000, 50):\n",
    "    track_results = sp.search(q='year:2023', type='track', limit=50, offset=i)\n",
    "    for t in track_results['tracks']['items']:\n",
    "        artist_name.append(t['artists'][0]['name'])\n",
    "        track_name.append(t['name'])\n",
    "        track_id.append(t['id'])\n",
    "        popularity.append(t['popularity'])\n",
    "        images.append(t['album']['images'][0]['url'])\n"
   ]
  },
  {
   "cell_type": "code",
   "execution_count": 5,
   "metadata": {},
   "outputs": [
    {
     "data": {
      "text/html": [
       "<div>\n",
       "<style scoped>\n",
       "    .dataframe tbody tr th:only-of-type {\n",
       "        vertical-align: middle;\n",
       "    }\n",
       "\n",
       "    .dataframe tbody tr th {\n",
       "        vertical-align: top;\n",
       "    }\n",
       "\n",
       "    .dataframe thead th {\n",
       "        text-align: right;\n",
       "    }\n",
       "</style>\n",
       "<table border=\"1\" class=\"dataframe\">\n",
       "  <thead>\n",
       "    <tr style=\"text-align: right;\">\n",
       "      <th></th>\n",
       "      <th>Artist</th>\n",
       "      <th>Track</th>\n",
       "      <th>Track ID</th>\n",
       "      <th>Popularity</th>\n",
       "      <th>Images URL</th>\n",
       "    </tr>\n",
       "  </thead>\n",
       "  <tbody>\n",
       "    <tr>\n",
       "      <th>0</th>\n",
       "      <td>The Weeknd</td>\n",
       "      <td>One Of The Girls (with JENNIE, Lily Rose Depp)</td>\n",
       "      <td>7CyPwkp0oE8Ro9Dd5CUDjW</td>\n",
       "      <td>90</td>\n",
       "      <td>https://i.scdn.co/image/ab67616d0000b273b0dd6a...</td>\n",
       "    </tr>\n",
       "    <tr>\n",
       "      <th>1</th>\n",
       "      <td>Teddy Swims</td>\n",
       "      <td>Lose Control</td>\n",
       "      <td>17phhZDn6oGtzMe56NuWvj</td>\n",
       "      <td>89</td>\n",
       "      <td>https://i.scdn.co/image/ab67616d0000b2731a0323...</td>\n",
       "    </tr>\n",
       "    <tr>\n",
       "      <th>2</th>\n",
       "      <td>Don Toliver</td>\n",
       "      <td>No Pole</td>\n",
       "      <td>0eaVIYo2zeOaGJeqZ5TwYz</td>\n",
       "      <td>87</td>\n",
       "      <td>https://i.scdn.co/image/ab67616d0000b273f5e27c...</td>\n",
       "    </tr>\n",
       "    <tr>\n",
       "      <th>3</th>\n",
       "      <td>Feid</td>\n",
       "      <td>LUNA</td>\n",
       "      <td>7bywjHOc0wSjGGbj04XbVi</td>\n",
       "      <td>87</td>\n",
       "      <td>https://i.scdn.co/image/ab67616d0000b273f1aad8...</td>\n",
       "    </tr>\n",
       "    <tr>\n",
       "      <th>4</th>\n",
       "      <td>Travis Scott</td>\n",
       "      <td>FE!N (feat. Playboi Carti)</td>\n",
       "      <td>42VsgItocQwOQC3XWZ8JNA</td>\n",
       "      <td>86</td>\n",
       "      <td>https://i.scdn.co/image/ab67616d0000b273881d8d...</td>\n",
       "    </tr>\n",
       "    <tr>\n",
       "      <th>5</th>\n",
       "      <td>Mitski</td>\n",
       "      <td>My Love Mine All Mine</td>\n",
       "      <td>3vkCueOmm7xQDoJ17W1Pm3</td>\n",
       "      <td>86</td>\n",
       "      <td>https://i.scdn.co/image/ab67616d0000b27334f21d...</td>\n",
       "    </tr>\n",
       "    <tr>\n",
       "      <th>6</th>\n",
       "      <td>The Kid LAROI</td>\n",
       "      <td>NIGHTS LIKE THIS</td>\n",
       "      <td>1XBYiRV30ykHw5f4wm6qEn</td>\n",
       "      <td>86</td>\n",
       "      <td>https://i.scdn.co/image/ab67616d0000b2732abb30...</td>\n",
       "    </tr>\n",
       "    <tr>\n",
       "      <th>7</th>\n",
       "      <td>Teddy Swims</td>\n",
       "      <td>The Door</td>\n",
       "      <td>3dj4wgM3cPeuLwMNHDuBon</td>\n",
       "      <td>86</td>\n",
       "      <td>https://i.scdn.co/image/ab67616d0000b2731a0323...</td>\n",
       "    </tr>\n",
       "    <tr>\n",
       "      <th>8</th>\n",
       "      <td>Chezile</td>\n",
       "      <td>Beanie</td>\n",
       "      <td>5e0b9LgOfi3aJSKXFcOWRe</td>\n",
       "      <td>86</td>\n",
       "      <td>https://i.scdn.co/image/ab67616d0000b273c16d7b...</td>\n",
       "    </tr>\n",
       "    <tr>\n",
       "      <th>9</th>\n",
       "      <td>Miley Cyrus</td>\n",
       "      <td>Flowers</td>\n",
       "      <td>7DSAEUvxU8FajXtRloy8M0</td>\n",
       "      <td>86</td>\n",
       "      <td>https://i.scdn.co/image/ab67616d0000b273cd2220...</td>\n",
       "    </tr>\n",
       "  </tbody>\n",
       "</table>\n",
       "</div>"
      ],
      "text/plain": [
       "          Artist                                           Track  \\\n",
       "0     The Weeknd  One Of The Girls (with JENNIE, Lily Rose Depp)   \n",
       "1    Teddy Swims                                    Lose Control   \n",
       "2    Don Toliver                                         No Pole   \n",
       "3           Feid                                            LUNA   \n",
       "4   Travis Scott                      FE!N (feat. Playboi Carti)   \n",
       "5         Mitski                           My Love Mine All Mine   \n",
       "6  The Kid LAROI                                NIGHTS LIKE THIS   \n",
       "7    Teddy Swims                                        The Door   \n",
       "8        Chezile                                          Beanie   \n",
       "9    Miley Cyrus                                         Flowers   \n",
       "\n",
       "                 Track ID  Popularity  \\\n",
       "0  7CyPwkp0oE8Ro9Dd5CUDjW          90   \n",
       "1  17phhZDn6oGtzMe56NuWvj          89   \n",
       "2  0eaVIYo2zeOaGJeqZ5TwYz          87   \n",
       "3  7bywjHOc0wSjGGbj04XbVi          87   \n",
       "4  42VsgItocQwOQC3XWZ8JNA          86   \n",
       "5  3vkCueOmm7xQDoJ17W1Pm3          86   \n",
       "6  1XBYiRV30ykHw5f4wm6qEn          86   \n",
       "7  3dj4wgM3cPeuLwMNHDuBon          86   \n",
       "8  5e0b9LgOfi3aJSKXFcOWRe          86   \n",
       "9  7DSAEUvxU8FajXtRloy8M0          86   \n",
       "\n",
       "                                          Images URL  \n",
       "0  https://i.scdn.co/image/ab67616d0000b273b0dd6a...  \n",
       "1  https://i.scdn.co/image/ab67616d0000b2731a0323...  \n",
       "2  https://i.scdn.co/image/ab67616d0000b273f5e27c...  \n",
       "3  https://i.scdn.co/image/ab67616d0000b273f1aad8...  \n",
       "4  https://i.scdn.co/image/ab67616d0000b273881d8d...  \n",
       "5  https://i.scdn.co/image/ab67616d0000b27334f21d...  \n",
       "6  https://i.scdn.co/image/ab67616d0000b2732abb30...  \n",
       "7  https://i.scdn.co/image/ab67616d0000b2731a0323...  \n",
       "8  https://i.scdn.co/image/ab67616d0000b273c16d7b...  \n",
       "9  https://i.scdn.co/image/ab67616d0000b273cd2220...  "
      ]
     },
     "execution_count": 5,
     "metadata": {},
     "output_type": "execute_result"
    }
   ],
   "source": [
    "track_dataframe = pd.DataFrame({\n",
    "    'Artist' : artist_name,\n",
    "    'Track' : track_name,\n",
    "    'Track ID' : track_id,\n",
    "    'Popularity' : popularity,\n",
    "    'Images URL' : images\n",
    "})\n",
    "\n",
    "df_sorted = track_dataframe.sort_values(by='Popularity', ascending=False).reset_index(drop=True)\n",
    "\n",
    "df_sorted.head(10)"
   ]
  },
  {
   "cell_type": "code",
   "execution_count": 6,
   "metadata": {},
   "outputs": [
    {
     "data": {
      "text/plain": [
       "<function matplotlib.pyplot.show(close=None, block=None)>"
      ]
     },
     "execution_count": 6,
     "metadata": {},
     "output_type": "execute_result"
    },
    {
     "data": {
      "image/png": "[encoded data removed]",
      "text/plain": [
       "<Figure size 1200x600 with 1 Axes>"
      ]
     },
     "metadata": {},
     "output_type": "display_data"
    }
   ],
   "source": [
    "artists_counts = track_dataframe['Artist'].value_counts()\n",
    "most_successful_artists = artists_counts.head(10)\n",
    "\n",
    "plt.figure(figsize=(12,6))\n",
    "plt.bar(most_successful_artists.index, most_successful_artists.values, color='purple')\n",
    "plt.xlabel(\"Artist\")\n",
    "plt.ylabel(\"Number of songs in the top 1000\")\n",
    "plt.title(\"Top Artists with the Most Songs in Spotify's 2023 Top 1000\")\n",
    "plt.xticks(rotation=45)\n",
    "plt.show"
   ]
  },
  {
   "cell_type": "code",
   "execution_count": 12,
   "metadata": {},
   "outputs": [
    {
     "name": "stderr",
     "output_type": "stream",
     "text": [
      "HTTP Error for GET to https://api.spotify.com/v1/audio-features/?ids=7CyPwkp0oE8Ro9Dd5CUDjW with Params: {} returned 403 due to None\n"
     ]
    },
    {
     "ename": "SpotifyException",
     "evalue": "http status: 403, code:-1 - https://api.spotify.com/v1/audio-features/?ids=7CyPwkp0oE8Ro9Dd5CUDjW:\n None, reason: None",
     "output_type": "error",
     "traceback": [
      "\u001b[1;31m---------------------------------------------------------------------------\u001b[0m",
      "\u001b[1;31mHTTPError\u001b[0m                                 Traceback (most recent call last)",
      "File \u001b[1;32mc:\\Users\\nike3\\PeckhamDazProjects\\daz-venv\\Lib\\site-packages\\spotipy\\client.py:275\u001b[0m, in \u001b[0;36mSpotify._internal_call\u001b[1;34m(self, method, url, payload, params)\u001b[0m\n\u001b[0;32m    270\u001b[0m response \u001b[38;5;241m=\u001b[39m \u001b[38;5;28mself\u001b[39m\u001b[38;5;241m.\u001b[39m_session\u001b[38;5;241m.\u001b[39mrequest(\n\u001b[0;32m    271\u001b[0m     method, url, headers\u001b[38;5;241m=\u001b[39mheaders, proxies\u001b[38;5;241m=\u001b[39m\u001b[38;5;28mself\u001b[39m\u001b[38;5;241m.\u001b[39mproxies,\n\u001b[0;32m    272\u001b[0m     timeout\u001b[38;5;241m=\u001b[39m\u001b[38;5;28mself\u001b[39m\u001b[38;5;241m.\u001b[39mrequests_timeout, \u001b[38;5;241m*\u001b[39m\u001b[38;5;241m*\u001b[39margs\n\u001b[0;32m    273\u001b[0m )\n\u001b[1;32m--> 275\u001b[0m \u001b[43mresponse\u001b[49m\u001b[38;5;241;43m.\u001b[39;49m\u001b[43mraise_for_status\u001b[49m\u001b[43m(\u001b[49m\u001b[43m)\u001b[49m\n\u001b[0;32m    276\u001b[0m results \u001b[38;5;241m=\u001b[39m response\u001b[38;5;241m.\u001b[39mjson()\n",
      "File \u001b[1;32mc:\\Users\\nike3\\PeckhamDazProjects\\daz-venv\\Lib\\site-packages\\requests\\models.py:1024\u001b[0m, in \u001b[0;36mResponse.raise_for_status\u001b[1;34m(self)\u001b[0m\n\u001b[0;32m   1023\u001b[0m \u001b[38;5;28;01mif\u001b[39;00m http_error_msg:\n\u001b[1;32m-> 1024\u001b[0m     \u001b[38;5;28;01mraise\u001b[39;00m HTTPError(http_error_msg, response\u001b[38;5;241m=\u001b[39m\u001b[38;5;28mself\u001b[39m)\n",
      "\u001b[1;31mHTTPError\u001b[0m: 403 Client Error: Forbidden for url: https://api.spotify.com/v1/audio-features/?ids=7CyPwkp0oE8Ro9Dd5CUDjW",
      "\nDuring handling of the above exception, another exception occurred:\n",
      "\u001b[1;31mSpotifyException\u001b[0m                          Traceback (most recent call last)",
      "Cell \u001b[1;32mIn[12], line 4\u001b[0m\n\u001b[0;32m      1\u001b[0m most_popular_track \u001b[38;5;241m=\u001b[39m df_sorted\u001b[38;5;241m.\u001b[39miloc[\u001b[38;5;241m0\u001b[39m]\n\u001b[0;32m      2\u001b[0m most_popular_track_id \u001b[38;5;241m=\u001b[39m most_popular_track[\u001b[38;5;124m'\u001b[39m\u001b[38;5;124mTrack ID\u001b[39m\u001b[38;5;124m'\u001b[39m]\n\u001b[1;32m----> 4\u001b[0m track_audio_features \u001b[38;5;241m=\u001b[39m \u001b[43msp\u001b[49m\u001b[38;5;241;43m.\u001b[39;49m\u001b[43maudio_features\u001b[49m\u001b[43m(\u001b[49m\u001b[43mmost_popular_track_id\u001b[49m\u001b[43m)\u001b[49m[\u001b[38;5;241m0\u001b[39m]\n\u001b[0;32m      6\u001b[0m \u001b[38;5;28mprint\u001b[39m(\u001b[38;5;124mf\u001b[39m\u001b[38;5;124m\"\u001b[39m\u001b[38;5;124mDanceability: \u001b[39m\u001b[38;5;132;01m{\u001b[39;00mtrack_audio_features[\u001b[38;5;124m'\u001b[39m\u001b[38;5;124mdancerability\u001b[39m\u001b[38;5;124m'\u001b[39m]\u001b[38;5;132;01m}\u001b[39;00m\u001b[38;5;124m\"\u001b[39m)\n\u001b[0;32m      7\u001b[0m \u001b[38;5;28mprint\u001b[39m(\u001b[38;5;124mf\u001b[39m\u001b[38;5;124m\"\u001b[39m\u001b[38;5;124mEnergy: \u001b[39m\u001b[38;5;132;01m{\u001b[39;00mtrack_audio_features[\u001b[38;5;124m'\u001b[39m\u001b[38;5;124menergy\u001b[39m\u001b[38;5;124m'\u001b[39m]\u001b[38;5;132;01m}\u001b[39;00m\u001b[38;5;124m\"\u001b[39m)\n",
      "File \u001b[1;32mc:\\Users\\nike3\\PeckhamDazProjects\\daz-venv\\Lib\\site-packages\\spotipy\\client.py:1799\u001b[0m, in \u001b[0;36mSpotify.audio_features\u001b[1;34m(self, tracks)\u001b[0m\n\u001b[0;32m   1797\u001b[0m \u001b[38;5;28;01mif\u001b[39;00m \u001b[38;5;28misinstance\u001b[39m(tracks, \u001b[38;5;28mstr\u001b[39m):\n\u001b[0;32m   1798\u001b[0m     trackid \u001b[38;5;241m=\u001b[39m \u001b[38;5;28mself\u001b[39m\u001b[38;5;241m.\u001b[39m_get_id(\u001b[38;5;124m\"\u001b[39m\u001b[38;5;124mtrack\u001b[39m\u001b[38;5;124m\"\u001b[39m, tracks)\n\u001b[1;32m-> 1799\u001b[0m     results \u001b[38;5;241m=\u001b[39m \u001b[38;5;28;43mself\u001b[39;49m\u001b[38;5;241;43m.\u001b[39;49m\u001b[43m_get\u001b[49m\u001b[43m(\u001b[49m\u001b[38;5;124;43m\"\u001b[39;49m\u001b[38;5;124;43maudio-features/?ids=\u001b[39;49m\u001b[38;5;124;43m\"\u001b[39;49m\u001b[43m \u001b[49m\u001b[38;5;241;43m+\u001b[39;49m\u001b[43m \u001b[49m\u001b[43mtrackid\u001b[49m\u001b[43m)\u001b[49m\n\u001b[0;32m   1800\u001b[0m \u001b[38;5;28;01melse\u001b[39;00m:\n\u001b[0;32m   1801\u001b[0m     tlist \u001b[38;5;241m=\u001b[39m [\u001b[38;5;28mself\u001b[39m\u001b[38;5;241m.\u001b[39m_get_id(\u001b[38;5;124m\"\u001b[39m\u001b[38;5;124mtrack\u001b[39m\u001b[38;5;124m\"\u001b[39m, t) \u001b[38;5;28;01mfor\u001b[39;00m t \u001b[38;5;129;01min\u001b[39;00m tracks]\n",
      "File \u001b[1;32mc:\\Users\\nike3\\PeckhamDazProjects\\daz-venv\\Lib\\site-packages\\spotipy\\client.py:327\u001b[0m, in \u001b[0;36mSpotify._get\u001b[1;34m(self, url, args, payload, **kwargs)\u001b[0m\n\u001b[0;32m    324\u001b[0m \u001b[38;5;28;01mif\u001b[39;00m args:\n\u001b[0;32m    325\u001b[0m     kwargs\u001b[38;5;241m.\u001b[39mupdate(args)\n\u001b[1;32m--> 327\u001b[0m \u001b[38;5;28;01mreturn\u001b[39;00m \u001b[38;5;28;43mself\u001b[39;49m\u001b[38;5;241;43m.\u001b[39;49m\u001b[43m_internal_call\u001b[49m\u001b[43m(\u001b[49m\u001b[38;5;124;43m\"\u001b[39;49m\u001b[38;5;124;43mGET\u001b[39;49m\u001b[38;5;124;43m\"\u001b[39;49m\u001b[43m,\u001b[49m\u001b[43m \u001b[49m\u001b[43murl\u001b[49m\u001b[43m,\u001b[49m\u001b[43m \u001b[49m\u001b[43mpayload\u001b[49m\u001b[43m,\u001b[49m\u001b[43m \u001b[49m\u001b[43mkwargs\u001b[49m\u001b[43m)\u001b[49m\n",
      "File \u001b[1;32mc:\\Users\\nike3\\PeckhamDazProjects\\daz-venv\\Lib\\site-packages\\spotipy\\client.py:297\u001b[0m, in \u001b[0;36mSpotify._internal_call\u001b[1;34m(self, method, url, payload, params)\u001b[0m\n\u001b[0;32m    290\u001b[0m         reason \u001b[38;5;241m=\u001b[39m \u001b[38;5;28;01mNone\u001b[39;00m\n\u001b[0;32m    292\u001b[0m     logger\u001b[38;5;241m.\u001b[39merror(\n\u001b[0;32m    293\u001b[0m         \u001b[38;5;124m'\u001b[39m\u001b[38;5;124mHTTP Error for \u001b[39m\u001b[38;5;132;01m%s\u001b[39;00m\u001b[38;5;124m to \u001b[39m\u001b[38;5;132;01m%s\u001b[39;00m\u001b[38;5;124m with Params: \u001b[39m\u001b[38;5;132;01m%s\u001b[39;00m\u001b[38;5;124m returned \u001b[39m\u001b[38;5;132;01m%s\u001b[39;00m\u001b[38;5;124m due to \u001b[39m\u001b[38;5;132;01m%s\u001b[39;00m\u001b[38;5;124m'\u001b[39m,\n\u001b[0;32m    294\u001b[0m         method, url, args\u001b[38;5;241m.\u001b[39mget(\u001b[38;5;124m\"\u001b[39m\u001b[38;5;124mparams\u001b[39m\u001b[38;5;124m\"\u001b[39m), response\u001b[38;5;241m.\u001b[39mstatus_code, msg\n\u001b[0;32m    295\u001b[0m     )\n\u001b[1;32m--> 297\u001b[0m     \u001b[38;5;28;01mraise\u001b[39;00m SpotifyException(\n\u001b[0;32m    298\u001b[0m         response\u001b[38;5;241m.\u001b[39mstatus_code,\n\u001b[0;32m    299\u001b[0m         \u001b[38;5;241m-\u001b[39m\u001b[38;5;241m1\u001b[39m,\n\u001b[0;32m    300\u001b[0m         \u001b[38;5;124mf\u001b[39m\u001b[38;5;124m\"\u001b[39m\u001b[38;5;132;01m{\u001b[39;00mresponse\u001b[38;5;241m.\u001b[39murl\u001b[38;5;132;01m}\u001b[39;00m\u001b[38;5;124m:\u001b[39m\u001b[38;5;130;01m\\n\u001b[39;00m\u001b[38;5;124m \u001b[39m\u001b[38;5;132;01m{\u001b[39;00mmsg\u001b[38;5;132;01m}\u001b[39;00m\u001b[38;5;124m\"\u001b[39m,\n\u001b[0;32m    301\u001b[0m         reason\u001b[38;5;241m=\u001b[39mreason,\n\u001b[0;32m    302\u001b[0m         headers\u001b[38;5;241m=\u001b[39mresponse\u001b[38;5;241m.\u001b[39mheaders,\n\u001b[0;32m    303\u001b[0m     )\n\u001b[0;32m    304\u001b[0m \u001b[38;5;28;01mexcept\u001b[39;00m requests\u001b[38;5;241m.\u001b[39mexceptions\u001b[38;5;241m.\u001b[39mRetryError \u001b[38;5;28;01mas\u001b[39;00m retry_error:\n\u001b[0;32m    305\u001b[0m     request \u001b[38;5;241m=\u001b[39m retry_error\u001b[38;5;241m.\u001b[39mrequest\n",
      "\u001b[1;31mSpotifyException\u001b[0m: http status: 403, code:-1 - https://api.spotify.com/v1/audio-features/?ids=7CyPwkp0oE8Ro9Dd5CUDjW:\n None, reason: None"
     ]
    }
   ],
   "source": [
    "most_popular_track = df_sorted.iloc[0]\n",
    "most_popular_track_id = most_popular_track['Track ID']\n",
    "\n",
    "track_audio_features = sp.audio_features(most_popular_track_id)[0]\n",
    "\n",
    "print(f\"Danceability: {track_audio_features['dancerability']}\")\n",
    "print(f\"Energy: {track_audio_features['energy']}\")\n",
    "print(f\"Speechiness: {track_audio_features['speechiness']}\")\n",
    "print(f\"Valence (Mood): {track_audio_features['valence']}\")"
   ]
  }
 ],
 "metadata": {
  "kernelspec": {
   "display_name": "daz-venv",
   "language": "python",
   "name": "python3"
  },
  "language_info": {
   "codemirror_mode": {
    "name": "ipython",
    "version": 3
   },
   "file_extension": ".py",
   "mimetype": "text/x-python",
   "name": "python",
   "nbconvert_exporter": "python",
   "pygments_lexer": "ipython3",
   "version": "3.11.9"
  }
 },
 "nbformat": 4,
 "nbformat_minor": 2
}
